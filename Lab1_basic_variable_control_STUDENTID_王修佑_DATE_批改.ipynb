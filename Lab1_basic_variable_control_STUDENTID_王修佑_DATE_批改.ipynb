{
 "cells": [
  {
   "cell_type": "markdown",
   "metadata": {
    "slideshow": {
     "slide_type": "slide"
    }
   },
   "source": [
    "# 基礎程式設計 LAB 1\n",
    "\n",
    ">基本運算<br>\n",
    ">資料型態<br>\n",
    ">控制流程"
   ]
  },
  {
   "cell_type": "markdown",
   "metadata": {},
   "source": [
    "Name:Wang Hsiu Yu (Hugo Wang)\n",
    "\n",
    "Student ID:AHSNCCU_10316"
   ]
  },
  {
   "cell_type": "markdown",
   "metadata": {
    "slideshow": {
     "slide_type": "slide"
    }
   },
   "source": [
    "## 第一個要學會的是......和世界打招呼\n",
    " - print()"
   ]
  },
  {
   "cell_type": "code",
   "execution_count": 2,
   "metadata": {},
   "outputs": [
    {
     "name": "stdout",
     "output_type": "stream",
     "text": [
      "hello world\n"
     ]
    }
   ],
   "source": [
    "print('hello world')"
   ]
  },
  {
   "cell_type": "markdown",
   "metadata": {},
   "source": [
    "#### >>> 回家練習: <<< \n",
    "寫一行程式印出你的名字"
   ]
  },
  {
   "cell_type": "code",
   "execution_count": 3,
   "metadata": {},
   "outputs": [
    {
     "name": "stdout",
     "output_type": "stream",
     "text": [
      "Wang Hsiu Yu\n"
     ]
    }
   ],
   "source": [
    "#your code\n",
    "print(\"Wang Hsiu Yu\")"
   ]
  },
  {
   "cell_type": "markdown",
   "metadata": {
    "slideshow": {
     "slide_type": "slide"
    }
   },
   "source": [
    "## 第二個要學會的是......如何使用 Python 計算機\n",
    "`2 + 1`中`2`跟 `1` 稱為`運算元`，`+` 稱為`運算子`\n",
    ">指派運算子 (Assignment operator)<br>\n",
    ">算術運算子 (Arithmetric operators)<br>\n",
    ">更新運算子 (Updating operators)<br>\n",
    ">比較運算子 (Comparison operators)<br>\n",
    ">邏輯運算子 (Logical operators)"
   ]
  },
  {
   "cell_type": "markdown",
   "metadata": {
    "slideshow": {
     "slide_type": "subslide"
    }
   },
   "source": [
    "### 指派運算子\n",
    "a = 1\n",
    ">指派 (Assignment)<br>\n",
    ">變數 (Variables)"
   ]
  },
  {
   "cell_type": "code",
   "execution_count": 4,
   "metadata": {},
   "outputs": [
    {
     "data": {
      "text/plain": [
       "1"
      ]
     },
     "execution_count": 4,
     "metadata": {},
     "output_type": "execute_result"
    }
   ],
   "source": [
    "a = 1\n",
    "a"
   ]
  },
  {
   "cell_type": "markdown",
   "metadata": {
    "slideshow": {
     "slide_type": "subslide"
    }
   },
   "source": [
    "#### 指派\n",
    " - 右邊運算完的結果丟給左邊\n",
    " - 跟一般數學的等號意義是不一樣的，誤用會出現 `invalid syntax` 錯誤...你的等於不是你的等於"
   ]
  },
  {
   "cell_type": "code",
   "execution_count": 5,
   "metadata": {},
   "outputs": [
    {
     "data": {
      "text/plain": [
       "2"
      ]
     },
     "execution_count": 5,
     "metadata": {},
     "output_type": "execute_result"
    }
   ],
   "source": [
    "a = 1 + 1\n",
    "a"
   ]
  },
  {
   "cell_type": "code",
   "execution_count": 6,
   "metadata": {},
   "outputs": [
    {
     "data": {
      "text/plain": [
       "2"
      ]
     },
     "execution_count": 6,
     "metadata": {},
     "output_type": "execute_result"
    }
   ],
   "source": [
    "a = 1\n",
    "a = a + 1\n",
    "a"
   ]
  },
  {
   "cell_type": "code",
   "execution_count": 7,
   "metadata": {},
   "outputs": [
    {
     "ename": "SyntaxError",
     "evalue": "can't assign to literal (<ipython-input-7-ecdac3dcabfd>, line 1)",
     "output_type": "error",
     "traceback": [
      "\u001b[0;36m  File \u001b[0;32m\"<ipython-input-7-ecdac3dcabfd>\"\u001b[0;36m, line \u001b[0;32m1\u001b[0m\n\u001b[0;31m    1 = 1\u001b[0m\n\u001b[0m         ^\u001b[0m\n\u001b[0;31mSyntaxError\u001b[0m\u001b[0;31m:\u001b[0m can't assign to literal\n"
     ]
    }
   ],
   "source": [
    "1 = 1"
   ]
  },
  {
   "cell_type": "markdown",
   "metadata": {},
   "source": [
    "#### >>> 回家練習 <<<\n",
    "指派你的學號（整數部分）給變數 student_id，並印出。"
   ]
  },
  {
   "cell_type": "code",
   "execution_count": 8,
   "metadata": {},
   "outputs": [
    {
     "data": {
      "text/plain": [
       "10316"
      ]
     },
     "execution_count": 8,
     "metadata": {},
     "output_type": "execute_result"
    }
   ],
   "source": [
    "#your code\n",
    "student_id = 10316\n",
    "student_id"
   ]
  },
  {
   "cell_type": "markdown",
   "metadata": {},
   "source": [
    "#### >>> 回家練習 <<<\n",
    "指派你的姓名給變數 student_name，並印出。"
   ]
  },
  {
   "cell_type": "code",
   "execution_count": 9,
   "metadata": {},
   "outputs": [
    {
     "name": "stdout",
     "output_type": "stream",
     "text": [
      "Wang Hsiu Yu\n"
     ]
    }
   ],
   "source": [
    "#your code\n",
    "student_name = \"Wang Hsiu Yu\"\n",
    "print(student_name)"
   ]
  },
  {
   "cell_type": "markdown",
   "metadata": {
    "slideshow": {
     "slide_type": "subslide"
    }
   },
   "source": [
    "#### 變數\n",
    " - 會在記憶體中佔住一個區塊\n",
    " - 變數命名限制：開頭不能是數字、開頭不能是運算子、不可與保留字同名"
   ]
  },
  {
   "cell_type": "code",
   "execution_count": 10,
   "metadata": {},
   "outputs": [
    {
     "ename": "SyntaxError",
     "evalue": "invalid syntax (<ipython-input-10-cc67e5ecf289>, line 1)",
     "output_type": "error",
     "traceback": [
      "\u001b[0;36m  File \u001b[0;32m\"<ipython-input-10-cc67e5ecf289>\"\u001b[0;36m, line \u001b[0;32m1\u001b[0m\n\u001b[0;31m    1a = 1\u001b[0m\n\u001b[0m     ^\u001b[0m\n\u001b[0;31mSyntaxError\u001b[0m\u001b[0;31m:\u001b[0m invalid syntax\n"
     ]
    }
   ],
   "source": [
    "1a = 1"
   ]
  },
  {
   "cell_type": "code",
   "execution_count": 11,
   "metadata": {},
   "outputs": [
    {
     "ename": "SyntaxError",
     "evalue": "can't assign to operator (<ipython-input-11-a56305d89f9e>, line 1)",
     "output_type": "error",
     "traceback": [
      "\u001b[0;36m  File \u001b[0;32m\"<ipython-input-11-a56305d89f9e>\"\u001b[0;36m, line \u001b[0;32m1\u001b[0m\n\u001b[0;31m    +a = 1\u001b[0m\n\u001b[0m          ^\u001b[0m\n\u001b[0;31mSyntaxError\u001b[0m\u001b[0;31m:\u001b[0m can't assign to operator\n"
     ]
    }
   ],
   "source": [
    "+a = 1"
   ]
  },
  {
   "cell_type": "code",
   "execution_count": 12,
   "metadata": {},
   "outputs": [
    {
     "ename": "SyntaxError",
     "evalue": "invalid syntax (<ipython-input-12-b26be1b49601>, line 1)",
     "output_type": "error",
     "traceback": [
      "\u001b[0;36m  File \u001b[0;32m\"<ipython-input-12-b26be1b49601>\"\u001b[0;36m, line \u001b[0;32m1\u001b[0m\n\u001b[0;31m    for = 1\u001b[0m\n\u001b[0m        ^\u001b[0m\n\u001b[0;31mSyntaxError\u001b[0m\u001b[0;31m:\u001b[0m invalid syntax\n"
     ]
    }
   ],
   "source": [
    "for = 1"
   ]
  },
  {
   "cell_type": "markdown",
   "metadata": {
    "slideshow": {
     "slide_type": "subslide"
    }
   },
   "source": [
    "### 算術運算子\n",
    "1 + 1<br>\n",
    "\n",
    "`+`、`-`、`*`、`/`、`**`、`//`、`%`"
   ]
  },
  {
   "cell_type": "code",
   "execution_count": 13,
   "metadata": {},
   "outputs": [
    {
     "data": {
      "text/plain": [
       "2"
      ]
     },
     "execution_count": 13,
     "metadata": {},
     "output_type": "execute_result"
    }
   ],
   "source": [
    "1 + 1"
   ]
  },
  {
   "cell_type": "code",
   "execution_count": 14,
   "metadata": {},
   "outputs": [
    {
     "data": {
      "text/plain": [
       "1"
      ]
     },
     "execution_count": 14,
     "metadata": {},
     "output_type": "execute_result"
    }
   ],
   "source": [
    "2 - 1"
   ]
  },
  {
   "cell_type": "code",
   "execution_count": 15,
   "metadata": {},
   "outputs": [
    {
     "data": {
      "text/plain": [
       "4"
      ]
     },
     "execution_count": 15,
     "metadata": {},
     "output_type": "execute_result"
    }
   ],
   "source": [
    "2 * 2"
   ]
  },
  {
   "cell_type": "code",
   "execution_count": 16,
   "metadata": {},
   "outputs": [
    {
     "data": {
      "text/plain": [
       "1.5"
      ]
     },
     "execution_count": 16,
     "metadata": {},
     "output_type": "execute_result"
    }
   ],
   "source": [
    "6 / 4"
   ]
  },
  {
   "cell_type": "code",
   "execution_count": 17,
   "metadata": {},
   "outputs": [
    {
     "data": {
      "text/plain": [
       "9"
      ]
     },
     "execution_count": 17,
     "metadata": {},
     "output_type": "execute_result"
    }
   ],
   "source": [
    "3 ** 2"
   ]
  },
  {
   "cell_type": "code",
   "execution_count": 18,
   "metadata": {},
   "outputs": [
    {
     "data": {
      "text/plain": [
       "1"
      ]
     },
     "execution_count": 18,
     "metadata": {},
     "output_type": "execute_result"
    }
   ],
   "source": [
    "6 // 4"
   ]
  },
  {
   "cell_type": "code",
   "execution_count": 19,
   "metadata": {},
   "outputs": [
    {
     "data": {
      "text/plain": [
       "2"
      ]
     },
     "execution_count": 19,
     "metadata": {},
     "output_type": "execute_result"
    }
   ],
   "source": [
    "6 % 4"
   ]
  },
  {
   "cell_type": "markdown",
   "metadata": {
    "slideshow": {
     "slide_type": "subslide"
    }
   },
   "source": [
    "### 更新運算子\n",
    "`a += 1` => `a = a + 1` (指派跟算術結合)\n",
    "\n",
    "包括 `+=`、`-=`、`*=`、`/=`、`**=`、`//=`、`%=`"
   ]
  },
  {
   "cell_type": "code",
   "execution_count": 20,
   "metadata": {},
   "outputs": [
    {
     "data": {
      "text/plain": [
       "2"
      ]
     },
     "execution_count": 20,
     "metadata": {},
     "output_type": "execute_result"
    }
   ],
   "source": [
    "a = 1\n",
    "a = a + 1\n",
    "a"
   ]
  },
  {
   "cell_type": "code",
   "execution_count": 21,
   "metadata": {},
   "outputs": [
    {
     "data": {
      "text/plain": [
       "2"
      ]
     },
     "execution_count": 21,
     "metadata": {},
     "output_type": "execute_result"
    }
   ],
   "source": [
    "a = 1\n",
    "a += 1\n",
    "a"
   ]
  },
  {
   "cell_type": "markdown",
   "metadata": {
    "slideshow": {
     "slide_type": "subslide"
    }
   },
   "source": [
    "### 比較運算子\n",
    "3 > 1\n",
    "\n",
    "包括 `==`、`!=`、`>`、`<`、`>=`、`<=`\n",
    "\n",
    "比較結果為 `True` 或 `False`"
   ]
  },
  {
   "cell_type": "code",
   "execution_count": 22,
   "metadata": {},
   "outputs": [
    {
     "data": {
      "text/plain": [
       "True"
      ]
     },
     "execution_count": 22,
     "metadata": {},
     "output_type": "execute_result"
    }
   ],
   "source": [
    "1 == 1"
   ]
  },
  {
   "cell_type": "code",
   "execution_count": 23,
   "metadata": {},
   "outputs": [
    {
     "data": {
      "text/plain": [
       "False"
      ]
     },
     "execution_count": 23,
     "metadata": {},
     "output_type": "execute_result"
    }
   ],
   "source": [
    "1 != 1"
   ]
  },
  {
   "cell_type": "code",
   "execution_count": 24,
   "metadata": {},
   "outputs": [
    {
     "data": {
      "text/plain": [
       "False"
      ]
     },
     "execution_count": 24,
     "metadata": {},
     "output_type": "execute_result"
    }
   ],
   "source": [
    "1 > 1"
   ]
  },
  {
   "cell_type": "code",
   "execution_count": 25,
   "metadata": {},
   "outputs": [
    {
     "data": {
      "text/plain": [
       "False"
      ]
     },
     "execution_count": 25,
     "metadata": {},
     "output_type": "execute_result"
    }
   ],
   "source": [
    "1 < 1"
   ]
  },
  {
   "cell_type": "code",
   "execution_count": 26,
   "metadata": {},
   "outputs": [
    {
     "data": {
      "text/plain": [
       "True"
      ]
     },
     "execution_count": 26,
     "metadata": {},
     "output_type": "execute_result"
    }
   ],
   "source": [
    "1 >= 1"
   ]
  },
  {
   "cell_type": "code",
   "execution_count": 27,
   "metadata": {},
   "outputs": [
    {
     "data": {
      "text/plain": [
       "True"
      ]
     },
     "execution_count": 27,
     "metadata": {},
     "output_type": "execute_result"
    }
   ],
   "source": [
    "1 <= 1"
   ]
  },
  {
   "cell_type": "markdown",
   "metadata": {
    "slideshow": {
     "slide_type": "subslide"
    }
   },
   "source": [
    "### 邏輯運算子\n",
    "True and False\n",
    "\n",
    " - 且：`and`、`&` (其中一個為 False 即為 False)\n",
    " - 或：`or`、`|`  (其中一個為 True  即為 True )\n",
    " - 非：`not` (無法使用\"!\")"
   ]
  },
  {
   "cell_type": "code",
   "execution_count": 28,
   "metadata": {},
   "outputs": [
    {
     "data": {
      "text/plain": [
       "True"
      ]
     },
     "execution_count": 28,
     "metadata": {},
     "output_type": "execute_result"
    }
   ],
   "source": [
    "True and True"
   ]
  },
  {
   "cell_type": "code",
   "execution_count": 29,
   "metadata": {},
   "outputs": [
    {
     "data": {
      "text/plain": [
       "False"
      ]
     },
     "execution_count": 29,
     "metadata": {},
     "output_type": "execute_result"
    }
   ],
   "source": [
    "True & False"
   ]
  },
  {
   "cell_type": "code",
   "execution_count": 30,
   "metadata": {},
   "outputs": [
    {
     "data": {
      "text/plain": [
       "True"
      ]
     },
     "execution_count": 30,
     "metadata": {},
     "output_type": "execute_result"
    }
   ],
   "source": [
    "True or False"
   ]
  },
  {
   "cell_type": "code",
   "execution_count": 31,
   "metadata": {},
   "outputs": [
    {
     "data": {
      "text/plain": [
       "True"
      ]
     },
     "execution_count": 31,
     "metadata": {},
     "output_type": "execute_result"
    }
   ],
   "source": [
    "True | True"
   ]
  },
  {
   "cell_type": "code",
   "execution_count": 32,
   "metadata": {},
   "outputs": [
    {
     "data": {
      "text/plain": [
       "False"
      ]
     },
     "execution_count": 32,
     "metadata": {},
     "output_type": "execute_result"
    }
   ],
   "source": [
    "not True"
   ]
  },
  {
   "cell_type": "code",
   "execution_count": 33,
   "metadata": {},
   "outputs": [
    {
     "data": {
      "text/plain": [
       "True"
      ]
     },
     "execution_count": 33,
     "metadata": {},
     "output_type": "execute_result"
    }
   ],
   "source": [
    "(1 == 1) and (2 != 1)"
   ]
  },
  {
   "cell_type": "code",
   "execution_count": 34,
   "metadata": {},
   "outputs": [
    {
     "data": {
      "text/plain": [
       "True"
      ]
     },
     "execution_count": 34,
     "metadata": {},
     "output_type": "execute_result"
    }
   ],
   "source": [
    "not (2 == 3)"
   ]
  },
  {
   "cell_type": "markdown",
   "metadata": {},
   "source": [
    "#### >>> 回家練習 <<<\n",
    "將變數 student_id 隨意做 *加 減 乘 除* 運算，並將結果指派給 student_id_num，確認 student_id 與 student_id_num 相等。"
   ]
  },
  {
   "cell_type": "code",
   "execution_count": 35,
   "metadata": {},
   "outputs": [
    {
     "data": {
      "text/plain": [
       "True"
      ]
     },
     "execution_count": 35,
     "metadata": {},
     "output_type": "execute_result"
    }
   ],
   "source": [
    "#your code\n",
    "student_id -= 11\n",
    "student_id_num = student_id\n",
    "student_id == student_id_num"
   ]
  },
  {
   "cell_type": "markdown",
   "metadata": {
    "slideshow": {
     "slide_type": "slide"
    }
   },
   "source": [
    "## 第三個要學會的是......了解資料的個性\n",
    ">整數 (int)<br>\n",
    ">浮點數 (float)<br>\n",
    ">布林值 (boolean)<br>\n",
    ">字串 (string)"
   ]
  },
  {
   "cell_type": "markdown",
   "metadata": {
    "slideshow": {
     "slide_type": "subslide"
    }
   },
   "source": [
    "### 整數\n",
    "1, 2, 3, 4...\n",
    "\n",
    " - Python 會自動判斷資料型態\n",
    " - 如何知道變數的資料型態 => type()"
   ]
  },
  {
   "cell_type": "code",
   "execution_count": 36,
   "metadata": {},
   "outputs": [
    {
     "data": {
      "text/plain": [
       "int"
      ]
     },
     "execution_count": 36,
     "metadata": {},
     "output_type": "execute_result"
    }
   ],
   "source": [
    "a = 1\n",
    "type(a)"
   ]
  },
  {
   "cell_type": "markdown",
   "metadata": {
    "slideshow": {
     "slide_type": "subslide"
    }
   },
   "source": [
    "### 浮點數\n",
    "1.2, 3.14, 9.87, 3.0...\n",
    "\n",
    " - 有小數點時，Python 會自動判斷為浮點數\n",
    " - 整數與浮點數一起計算會怎樣?\n",
    " - 如何轉型 => int()、float()"
   ]
  },
  {
   "cell_type": "code",
   "execution_count": 37,
   "metadata": {},
   "outputs": [
    {
     "data": {
      "text/plain": [
       "float"
      ]
     },
     "execution_count": 37,
     "metadata": {},
     "output_type": "execute_result"
    }
   ],
   "source": [
    "a = 1.0\n",
    "type(a)"
   ]
  },
  {
   "cell_type": "markdown",
   "metadata": {
    "slideshow": {
     "slide_type": "subslide"
    }
   },
   "source": [
    "### 布林值\n",
    "True, False\n",
    "\n",
    " - True 和 False 開頭皆為大寫\n",
    " - 常用於控制流程 (if、while)"
   ]
  },
  {
   "cell_type": "code",
   "execution_count": 38,
   "metadata": {},
   "outputs": [
    {
     "data": {
      "text/plain": [
       "bool"
      ]
     },
     "execution_count": 38,
     "metadata": {},
     "output_type": "execute_result"
    }
   ],
   "source": [
    "a = True\n",
    "type(a)"
   ]
  },
  {
   "cell_type": "markdown",
   "metadata": {
    "slideshow": {
     "slide_type": "subslide"
    }
   },
   "source": [
    "# 字串\n",
    "'Hello', \"tmu\"...\n",
    "\n",
    ">單引號和雙引號<br>\n",
    ">跳脫字元<br>\n",
    ">字串的加減乘除<br>\n",
    ">字串切片 (slice)<br>\n",
    ">字串格式化<br>\n",
    ">字串常用方法"
   ]
  },
  {
   "cell_type": "markdown",
   "metadata": {
    "slideshow": {
     "slide_type": "subslide"
    }
   },
   "source": [
    "#### 單引號和雙引號\n",
    " - 單引號和雙引號 Python 都會判斷為字串\n",
    " - 如何 print「Jimgo's apple pen」"
   ]
  },
  {
   "cell_type": "code",
   "execution_count": 39,
   "metadata": {},
   "outputs": [
    {
     "data": {
      "text/plain": [
       "str"
      ]
     },
     "execution_count": 39,
     "metadata": {},
     "output_type": "execute_result"
    }
   ],
   "source": [
    "a = '單引號'\n",
    "type(a)"
   ]
  },
  {
   "cell_type": "code",
   "execution_count": 40,
   "metadata": {},
   "outputs": [
    {
     "data": {
      "text/plain": [
       "str"
      ]
     },
     "execution_count": 40,
     "metadata": {},
     "output_type": "execute_result"
    }
   ],
   "source": [
    "a = \"雙引號\"\n",
    "type(a)"
   ]
  },
  {
   "cell_type": "markdown",
   "metadata": {},
   "source": [
    "```Some birds aren't meant to be caged. Their feathers are just too bright.```"
   ]
  },
  {
   "cell_type": "code",
   "execution_count": 41,
   "metadata": {},
   "outputs": [
    {
     "name": "stdout",
     "output_type": "stream",
     "text": [
      "Some birds aren't meant to be caged. Their feathers are just too bright.\n"
     ]
    }
   ],
   "source": [
    "print(\"Some birds aren't meant to be caged. Their feathers are just too bright.\")"
   ]
  },
  {
   "cell_type": "markdown",
   "metadata": {
    "slideshow": {
     "slide_type": "subslide"
    }
   },
   "source": [
    "#### 跳脫字元\n",
    " - 特殊用途的字元\n",
    " - http://python-ds.com/python-3-escape-sequences\n",
    ">\\n：換行<br>\n",
    ">\\t：tab"
   ]
  },
  {
   "cell_type": "code",
   "execution_count": 42,
   "metadata": {},
   "outputs": [
    {
     "name": "stdout",
     "output_type": "stream",
     "text": [
      "Some birds aren't meant to be caged. Their feathers are just too bright.\n"
     ]
    }
   ],
   "source": [
    "print('Some birds aren\\'t meant to be caged. Their feathers are just too bright.')"
   ]
  },
  {
   "cell_type": "code",
   "execution_count": 43,
   "metadata": {},
   "outputs": [
    {
     "name": "stdout",
     "output_type": "stream",
     "text": [
      "Some birds aren't meant to be caged. \n",
      "Their feathers are just too bright.\n"
     ]
    }
   ],
   "source": [
    "print('Some birds aren\\'t meant to be caged. \\nTheir feathers are just too bright.')"
   ]
  },
  {
   "cell_type": "code",
   "execution_count": 44,
   "metadata": {},
   "outputs": [
    {
     "name": "stdout",
     "output_type": "stream",
     "text": [
      "Some birds \n",
      "\taren't meant to be caged. \n",
      "\n",
      "Their feathers \n",
      "\tare just too bright.\n"
     ]
    }
   ],
   "source": [
    "print('Some birds \\n\\taren\\'t meant to be caged. \\n\\nTheir feathers \\n\\tare just too bright.')"
   ]
  },
  {
   "cell_type": "markdown",
   "metadata": {},
   "source": [
    "#### >>> 回家練習 <<<\n",
    "印出指定格式: 同一行你的姓名與學號，以“空格”分隔"
   ]
  },
  {
   "cell_type": "code",
   "execution_count": 45,
   "metadata": {},
   "outputs": [
    {
     "name": "stdout",
     "output_type": "stream",
     "text": [
      "Wang Hsiu Yu 10316\n"
     ]
    }
   ],
   "source": [
    "#your code\n",
    "print(\"Wang Hsiu Yu 10316\")"
   ]
  },
  {
   "cell_type": "markdown",
   "metadata": {},
   "source": [
    "#### >>> 回家練習 <<<\n",
    "印出指定格式: 你的姓名，一行一個字"
   ]
  },
  {
   "cell_type": "code",
   "execution_count": 47,
   "metadata": {},
   "outputs": [
    {
     "name": "stdout",
     "output_type": "stream",
     "text": [
      "Wang\n",
      "Hsiu\n",
      "Yu\n"
     ]
    }
   ],
   "source": [
    "#your code\n",
    "print(\"Wang \\nHsiu \\nYu\")"
   ]
  },
  {
   "cell_type": "markdown",
   "metadata": {},
   "source": [
    "#### >>> 回家練習 <<<\n",
    "印出指定格式，如式：\n",
    "```\n",
    "姓名：name\n",
    "學號：studentid\n",
    "```\n",
    "name要換成你的姓名，studentid要換成你的完整學號"
   ]
  },
  {
   "cell_type": "code",
   "execution_count": 1,
   "metadata": {},
   "outputs": [
    {
     "name": "stdout",
     "output_type": "stream",
     "text": [
      "姓名：Wang Hsiu Yu\n",
      "學號：10316\n"
     ]
    }
   ],
   "source": [
    "#your code\n",
    "nam = input(\"姓名：\")\n",
    "num = input(\"學號：\")\n"
   ]
  },
  {
   "cell_type": "markdown",
   "metadata": {},
   "source": [
    "print(\"姓名：Wang Hsiu Yu\",'學號：10316',sep = \"\\n\")"
   ]
  },
  {
   "cell_type": "markdown",
   "metadata": {
    "slideshow": {
     "slide_type": "subslide"
    }
   },
   "source": [
    "#### 字串 (String) 的加減乘除\n",
    " - 其實字串只能加跟乘...\n",
    ">Fear can hold you prisoner, hope can set you free.<br>"
   ]
  },
  {
   "cell_type": "code",
   "execution_count": 56,
   "metadata": {},
   "outputs": [
    {
     "name": "stdout",
     "output_type": "stream",
     "text": [
      "Fear can hold you prisonerhope can set you free.\n"
     ]
    }
   ],
   "source": [
    "str1 = 'Fear can hold you prisoner'\n",
    "str2 = 'hope can set you free.'\n",
    "print(str1 + str2)"
   ]
  },
  {
   "cell_type": "code",
   "execution_count": 57,
   "metadata": {},
   "outputs": [
    {
     "name": "stdout",
     "output_type": "stream",
     "text": [
      "Fear can hold you prisoner, hope can set you free.\n"
     ]
    }
   ],
   "source": [
    "str1 = 'Fear can hold you prisoner'\n",
    "str2 = 'hope can set you free.'\n",
    "print(str1 + \", \" + str2)"
   ]
  },
  {
   "cell_type": "code",
   "execution_count": 58,
   "metadata": {},
   "outputs": [
    {
     "name": "stdout",
     "output_type": "stream",
     "text": [
      "Fear can hold you prisoner hope can set you free.\n"
     ]
    }
   ],
   "source": [
    "str1 = 'Fear can hold you prisoner'\n",
    "str2 = 'hope can set you free.'\n",
    "print(str1, str2)"
   ]
  },
  {
   "cell_type": "markdown",
   "metadata": {
    "slideshow": {
     "slide_type": "fragment"
    }
   },
   "source": [
    ">如何呼喚自由3000次?"
   ]
  },
  {
   "cell_type": "code",
   "execution_count": 59,
   "metadata": {},
   "outputs": [
    {
     "name": "stdout",
     "output_type": "stream",
     "text": [
      "自由自由自由\n"
     ]
    }
   ],
   "source": [
    "str1 = \"自由\"\n",
    "print(str1 * 3)"
   ]
  },
  {
   "cell_type": "markdown",
   "metadata": {
    "slideshow": {
     "slide_type": "fragment"
    }
   },
   "source": [
    "#### >>> 回家練習 <<<\n",
    "以一行程式及先前設定的變數（student_name）印出你的姓名 300 次，間隔為空格。"
   ]
  },
  {
   "cell_type": "code",
   "execution_count": 2,
   "metadata": {},
   "outputs": [
    {
     "name": "stdout",
     "output_type": "stream",
     "text": [
      "Wang Hsiu Yu Wang Hsiu Yu Wang Hsiu Yu Wang Hsiu Yu Wang Hsiu Yu Wang Hsiu Yu Wang Hsiu Yu Wang Hsiu Yu Wang Hsiu Yu Wang Hsiu Yu Wang Hsiu Yu Wang Hsiu Yu Wang Hsiu Yu Wang Hsiu Yu Wang Hsiu Yu Wang Hsiu Yu Wang Hsiu Yu Wang Hsiu Yu Wang Hsiu Yu Wang Hsiu Yu Wang Hsiu Yu Wang Hsiu Yu Wang Hsiu Yu Wang Hsiu Yu Wang Hsiu Yu Wang Hsiu Yu Wang Hsiu Yu Wang Hsiu Yu Wang Hsiu Yu Wang Hsiu Yu Wang Hsiu Yu Wang Hsiu Yu Wang Hsiu Yu Wang Hsiu Yu Wang Hsiu Yu Wang Hsiu Yu Wang Hsiu Yu Wang Hsiu Yu Wang Hsiu Yu Wang Hsiu Yu Wang Hsiu Yu Wang Hsiu Yu Wang Hsiu Yu Wang Hsiu Yu Wang Hsiu Yu Wang Hsiu Yu Wang Hsiu Yu Wang Hsiu Yu Wang Hsiu Yu Wang Hsiu Yu Wang Hsiu Yu Wang Hsiu Yu Wang Hsiu Yu Wang Hsiu Yu Wang Hsiu Yu Wang Hsiu Yu Wang Hsiu Yu Wang Hsiu Yu Wang Hsiu Yu Wang Hsiu Yu Wang Hsiu Yu Wang Hsiu Yu Wang Hsiu Yu Wang Hsiu Yu Wang Hsiu Yu Wang Hsiu Yu Wang Hsiu Yu Wang Hsiu Yu Wang Hsiu Yu Wang Hsiu Yu Wang Hsiu Yu Wang Hsiu Yu Wang Hsiu Yu Wang Hsiu Yu Wang Hsiu Yu Wang Hsiu Yu Wang Hsiu Yu Wang Hsiu Yu Wang Hsiu Yu Wang Hsiu Yu Wang Hsiu Yu Wang Hsiu Yu Wang Hsiu Yu Wang Hsiu Yu Wang Hsiu Yu Wang Hsiu Yu Wang Hsiu Yu Wang Hsiu Yu Wang Hsiu Yu Wang Hsiu Yu Wang Hsiu Yu Wang Hsiu Yu Wang Hsiu Yu Wang Hsiu Yu Wang Hsiu Yu Wang Hsiu Yu Wang Hsiu Yu Wang Hsiu Yu Wang Hsiu Yu Wang Hsiu Yu Wang Hsiu Yu Wang Hsiu Yu Wang Hsiu Yu Wang Hsiu Yu Wang Hsiu Yu Wang Hsiu Yu Wang Hsiu Yu Wang Hsiu Yu Wang Hsiu Yu Wang Hsiu Yu Wang Hsiu Yu Wang Hsiu Yu Wang Hsiu Yu Wang Hsiu Yu Wang Hsiu Yu Wang Hsiu Yu Wang Hsiu Yu Wang Hsiu Yu Wang Hsiu Yu Wang Hsiu Yu Wang Hsiu Yu Wang Hsiu Yu Wang Hsiu Yu Wang Hsiu Yu Wang Hsiu Yu Wang Hsiu Yu Wang Hsiu Yu Wang Hsiu Yu Wang Hsiu Yu Wang Hsiu Yu Wang Hsiu Yu Wang Hsiu Yu Wang Hsiu Yu Wang Hsiu Yu Wang Hsiu Yu Wang Hsiu Yu Wang Hsiu Yu Wang Hsiu Yu Wang Hsiu Yu Wang Hsiu Yu Wang Hsiu Yu Wang Hsiu Yu Wang Hsiu Yu Wang Hsiu Yu Wang Hsiu Yu Wang Hsiu Yu Wang Hsiu Yu Wang Hsiu Yu Wang Hsiu Yu Wang Hsiu Yu Wang Hsiu Yu Wang Hsiu Yu Wang Hsiu Yu Wang Hsiu Yu Wang Hsiu Yu Wang Hsiu Yu Wang Hsiu Yu Wang Hsiu Yu Wang Hsiu Yu Wang Hsiu Yu Wang Hsiu Yu Wang Hsiu Yu Wang Hsiu Yu Wang Hsiu Yu Wang Hsiu Yu Wang Hsiu Yu Wang Hsiu Yu Wang Hsiu Yu Wang Hsiu Yu Wang Hsiu Yu Wang Hsiu Yu Wang Hsiu Yu Wang Hsiu Yu Wang Hsiu Yu Wang Hsiu Yu Wang Hsiu Yu Wang Hsiu Yu Wang Hsiu Yu Wang Hsiu Yu Wang Hsiu Yu Wang Hsiu Yu Wang Hsiu Yu Wang Hsiu Yu Wang Hsiu Yu Wang Hsiu Yu Wang Hsiu Yu Wang Hsiu Yu Wang Hsiu Yu Wang Hsiu Yu Wang Hsiu Yu Wang Hsiu Yu Wang Hsiu Yu Wang Hsiu Yu Wang Hsiu Yu Wang Hsiu Yu Wang Hsiu Yu Wang Hsiu Yu Wang Hsiu Yu Wang Hsiu Yu Wang Hsiu Yu Wang Hsiu Yu Wang Hsiu Yu Wang Hsiu Yu Wang Hsiu Yu Wang Hsiu Yu Wang Hsiu Yu Wang Hsiu Yu Wang Hsiu Yu Wang Hsiu Yu Wang Hsiu Yu Wang Hsiu Yu Wang Hsiu Yu Wang Hsiu Yu Wang Hsiu Yu Wang Hsiu Yu Wang Hsiu Yu Wang Hsiu Yu Wang Hsiu Yu Wang Hsiu Yu Wang Hsiu Yu Wang Hsiu Yu Wang Hsiu Yu Wang Hsiu Yu Wang Hsiu Yu Wang Hsiu Yu Wang Hsiu Yu Wang Hsiu Yu Wang Hsiu Yu Wang Hsiu Yu Wang Hsiu Yu Wang Hsiu Yu Wang Hsiu Yu Wang Hsiu Yu Wang Hsiu Yu Wang Hsiu Yu Wang Hsiu Yu Wang Hsiu Yu Wang Hsiu Yu Wang Hsiu Yu Wang Hsiu Yu Wang Hsiu Yu Wang Hsiu Yu Wang Hsiu Yu Wang Hsiu Yu Wang Hsiu Yu Wang Hsiu Yu Wang Hsiu Yu Wang Hsiu Yu Wang Hsiu Yu Wang Hsiu Yu Wang Hsiu Yu Wang Hsiu Yu Wang Hsiu Yu Wang Hsiu Yu Wang Hsiu Yu Wang Hsiu Yu Wang Hsiu Yu Wang Hsiu Yu Wang Hsiu Yu Wang Hsiu Yu Wang Hsiu Yu Wang Hsiu Yu Wang Hsiu Yu Wang Hsiu Yu Wang Hsiu Yu Wang Hsiu Yu Wang Hsiu Yu Wang Hsiu Yu Wang Hsiu Yu Wang Hsiu Yu Wang Hsiu Yu Wang Hsiu Yu Wang Hsiu Yu Wang Hsiu Yu Wang Hsiu Yu Wang Hsiu Yu Wang Hsiu Yu Wang Hsiu Yu Wang Hsiu Yu Wang Hsiu Yu Wang Hsiu Yu Wang Hsiu Yu Wang Hsiu Yu Wang Hsiu Yu Wang Hsiu Yu Wang Hsiu Yu Wang Hsiu Yu Wang Hsiu Yu Wang Hsiu Yu Wang Hsiu Yu Wang Hsiu Yu Wang Hsiu Yu Wang Hsiu Yu Wang Hsiu Yu Wang Hsiu Yu Wang Hsiu Yu Wang Hsiu Yu Wang Hsiu Yu Wang Hsiu Yu Wang Hsiu Yu \n"
     ]
    }
   ],
   "source": [
    "#your code\n",
    "student_name = \"Wang Hsiu Yu\"\n",
    "print((student_name+' ') * 300)"
   ]
  },
  {
   "cell_type": "markdown",
   "metadata": {
    "slideshow": {
     "slide_type": "subslide"
    }
   },
   "source": [
    "#### 字串切片 (slice)\n",
    " - 如何取出字串第二個字?"
   ]
  },
  {
   "cell_type": "code",
   "execution_count": 61,
   "metadata": {},
   "outputs": [
    {
     "data": {
      "text/plain": [
       "'望'"
      ]
     },
     "execution_count": 61,
     "metadata": {},
     "output_type": "execute_result"
    }
   ],
   "source": [
    "str1 = \"希望是美好的\"\n",
    "str1[1]"
   ]
  },
  {
   "cell_type": "markdown",
   "metadata": {
    "slideshow": {
     "slide_type": "fragment"
    }
   },
   "source": [
    " - 如何取出第四到第六個字\n",
    " - slice:'string'[start:end]\n",
    " - 包頭不包尾"
   ]
  },
  {
   "cell_type": "code",
   "execution_count": 62,
   "metadata": {},
   "outputs": [
    {
     "data": {
      "text/plain": [
       "'美好的'"
      ]
     },
     "execution_count": 62,
     "metadata": {},
     "output_type": "execute_result"
    }
   ],
   "source": [
    "str1 = \"希望是美好的\"\n",
    "str1[3:6]"
   ]
  },
  {
   "cell_type": "markdown",
   "metadata": {
    "slideshow": {
     "slide_type": "subslide"
    }
   },
   "source": [
    "#### 字串格式化\n",
    "'我希望太平洋的海水如同夢中的一樣%s：我希望……' % '顏色'\n",
    ">%s：字串<br>\n",
    ">%d：整數<br>\n",
    ">%f：浮點數"
   ]
  },
  {
   "cell_type": "code",
   "execution_count": 63,
   "metadata": {},
   "outputs": [
    {
     "name": "stdout",
     "output_type": "stream",
     "text": [
      "我希望太平洋的海水如同夢中的一樣藍：我希望……\n"
     ]
    }
   ],
   "source": [
    "print('我希望太平洋的海水如同夢中的一樣%s：我希望……' % '藍')"
   ]
  },
  {
   "cell_type": "code",
   "execution_count": 64,
   "metadata": {},
   "outputs": [
    {
     "name": "stdout",
     "output_type": "stream",
     "text": [
      "我希望太平洋的海水如同夢中的1樣藍：我希望……\n"
     ]
    }
   ],
   "source": [
    "print('我希望太平洋的海水如同夢中的%d樣%s：我希望……' % (1, '藍'))"
   ]
  },
  {
   "cell_type": "code",
   "execution_count": 65,
   "metadata": {},
   "outputs": [
    {
     "name": "stdout",
     "output_type": "stream",
     "text": [
      "我希望太平洋的海水如同夢中的1.000000樣藍：我希望……\n"
     ]
    }
   ],
   "source": [
    "print('我希望太平洋的海水如同夢中的%f樣%s：我希望……' % (1.0, '藍'))"
   ]
  },
  {
   "cell_type": "markdown",
   "metadata": {
    "slideshow": {
     "slide_type": "subslide"
    }
   },
   "source": [
    "#### 字串格式化\n",
    "```{0}年，Andy Dufresne 從肖申克監獄逃脫。人們只找到一件沾滿泥的囚衣、一塊肥皂、一把舊到不能再用的岩石錘。\\\n",
    "/n我曾認為用它鑿通監獄的牆得花上六百年。老 {1} 不到二十年就做到了。'.format(年份, '人名')```\n",
    "\n",
    " - index 從 0 開始標，字串中不用按大小排序\n",
    " - 可不填數字，Python 會自動依序填入\n",
    " - 不須先定義資料型態"
   ]
  },
  {
   "cell_type": "code",
   "execution_count": 66,
   "metadata": {
    "scrolled": true
   },
   "outputs": [
    {
     "name": "stdout",
     "output_type": "stream",
     "text": [
      "1966年，Andy Dufresne 從肖申克監獄逃脫。人們只找到一件沾滿泥的囚衣、一塊肥皂、一把舊到不能再用的岩石錘。\n",
      "我曾認為用它鑿通監獄的牆得花上六百年。老 Andy 不到二十年就做到了。\n"
     ]
    }
   ],
   "source": [
    "print('{0}年，Andy Dufresne 從肖申克監獄逃脫。人們只找到一件沾滿泥的囚衣、一塊肥皂、一把舊到不能再用的岩石錘。\\\n",
    "\\n我曾認為用它鑿通監獄的牆得花上六百年。老 {1} 不到二十年就做到了。'.format(1966, 'Andy'))"
   ]
  },
  {
   "cell_type": "code",
   "execution_count": 67,
   "metadata": {
    "scrolled": true
   },
   "outputs": [
    {
     "name": "stdout",
     "output_type": "stream",
     "text": [
      "1966年，Andy Dufresne 從肖申克監獄逃脫。人們只找到一件沾滿泥的囚衣、一塊肥皂、一把舊到不能再用的岩石錘。\n",
      "我曾認為用它鑿通監獄的牆得花上六百年。老 Andy 不到二十年就做到了。\n"
     ]
    }
   ],
   "source": [
    "print('{1}年，Andy Dufresne 從肖申克監獄逃脫。人們只找到一件沾滿泥的囚衣、一塊肥皂、一把舊到不能再用的岩石錘。\\\n",
    "\\n我曾認為用它鑿通監獄的牆得花上六百年。老 {0} 不到二十年就做到了。'.format('Andy', 1966))"
   ]
  },
  {
   "cell_type": "code",
   "execution_count": 68,
   "metadata": {
    "scrolled": true
   },
   "outputs": [
    {
     "name": "stdout",
     "output_type": "stream",
     "text": [
      "1966年，Andy Dufresne 從肖申克監獄逃脫。人們只找到一件沾滿泥的囚衣、一塊肥皂、一把舊到不能再用的岩石錘。\n",
      "我曾認為用它鑿通監獄的牆得花上六百年。老 Andy 不到二十年就做到了。\n"
     ]
    }
   ],
   "source": [
    "print('{}年，Andy Dufresne 從肖申克監獄逃脫。人們只找到一件沾滿泥的囚衣、一塊肥皂、一把舊到不能再用的岩石錘。\\\n",
    "\\n我曾認為用它鑿通監獄的牆得花上六百年。老 {} 不到二十年就做到了。'.format(1966, 'Andy'))"
   ]
  },
  {
   "cell_type": "markdown",
   "metadata": {
    "slideshow": {
     "slide_type": "subslide"
    }
   },
   "source": [
    "#### 字串格式化 f string\n",
    "print(`f`'x + y = {x + y}')"
   ]
  },
  {
   "cell_type": "code",
   "execution_count": 69,
   "metadata": {},
   "outputs": [
    {
     "name": "stdout",
     "output_type": "stream",
     "text": [
      "x + y = 3\n"
     ]
    }
   ],
   "source": [
    "x = 1\n",
    "y = 2\n",
    "print(f'x + y = {x + y}')"
   ]
  },
  {
   "cell_type": "code",
   "execution_count": 70,
   "metadata": {
    "scrolled": true
   },
   "outputs": [
    {
     "name": "stdout",
     "output_type": "stream",
     "text": [
      "1966年，Andy Dufresne 從肖申克監獄逃脫。人們只找到一件沾滿泥的囚衣、一塊肥皂、一把舊到不能再用的岩石錘。\n",
      "我曾認為用它鑿通監獄的牆得花上六百年。老 Andy 不到二十年就做到了。\n"
     ]
    }
   ],
   "source": [
    "name = \"Andy\"\n",
    "year = 1966\n",
    "print(f'{year}年，Andy Dufresne 從肖申克監獄逃脫。人們只找到一件沾滿泥的囚衣、一塊肥皂、一把舊到不能再用的岩石錘。\\\n",
    "\\n我曾認為用它鑿通監獄的牆得花上六百年。老 {name} 不到二十年就做到了。')"
   ]
  },
  {
   "cell_type": "markdown",
   "metadata": {
    "slideshow": {
     "slide_type": "subslide"
    }
   },
   "source": [
    "#### 字串常用方法\n",
    ">字串長度是多少<br>\n",
    ">我想把逗號取代成空格<br>\n",
    ">我想把字串斷句<br>\n",
    ">我想把英文變小寫<br>\n",
    ">我想知道字串中有沒有你的名字<br>\n",
    ">如何把數字轉字串"
   ]
  },
  {
   "cell_type": "markdown",
   "metadata": {
    "slideshow": {
     "slide_type": "subslide"
    }
   },
   "source": [
    "#### 字串常用方法\n",
    "字串長度是多少 => `len(str)`"
   ]
  },
  {
   "cell_type": "code",
   "execution_count": 71,
   "metadata": {},
   "outputs": [
    {
     "data": {
      "text/plain": [
       "7"
      ]
     },
     "execution_count": 71,
     "metadata": {},
     "output_type": "execute_result"
    }
   ],
   "source": [
    "str1 = '字串長度是多少'\n",
    "len(str1)\n",
    "#字串長度是多少"
   ]
  },
  {
   "cell_type": "markdown",
   "metadata": {
    "slideshow": {
     "slide_type": "subslide"
    }
   },
   "source": [
    "#### 字串常用方法\n",
    "我想把逗號取代成空格 => `str.replace(',', ' ')`\n",
    "\n",
    " - 空格 vs 空字串\n",
    " - 注意回傳值"
   ]
  },
  {
   "cell_type": "code",
   "execution_count": 72,
   "metadata": {},
   "outputs": [
    {
     "data": {
      "text/plain": [
       "'我想把逗號 取代成空格'"
      ]
     },
     "execution_count": 72,
     "metadata": {},
     "output_type": "execute_result"
    }
   ],
   "source": [
    "str1 = '我想把逗號,取代成空格'\n",
    "str1.replace(',', ' ')"
   ]
  },
  {
   "cell_type": "code",
   "execution_count": 73,
   "metadata": {},
   "outputs": [
    {
     "data": {
      "text/plain": [
       "'我想把逗號,取代成空格'"
      ]
     },
     "execution_count": 73,
     "metadata": {},
     "output_type": "execute_result"
    }
   ],
   "source": [
    "str1 = '我想把逗號,取代成空格'\n",
    "str1.replace(',', ' ')\n",
    "str1"
   ]
  },
  {
   "cell_type": "code",
   "execution_count": 74,
   "metadata": {},
   "outputs": [
    {
     "data": {
      "text/plain": [
       "'我想把逗號 取代成空格'"
      ]
     },
     "execution_count": 74,
     "metadata": {},
     "output_type": "execute_result"
    }
   ],
   "source": [
    "str1 = '我想把逗號,取代成空格'\n",
    "str1 = str1.replace(',', ' ')\n",
    "str1"
   ]
  },
  {
   "cell_type": "markdown",
   "metadata": {
    "slideshow": {
     "slide_type": "subslide"
    }
   },
   "source": [
    "#### 字串常用方法\n",
    "我想把字串斷句 => `str.split('.')`\n",
    "\n",
    " - 如不指定用什麼切割，會自動以空格切割"
   ]
  },
  {
   "cell_type": "code",
   "execution_count": 75,
   "metadata": {},
   "outputs": [
    {
     "data": {
      "text/plain": [
       "['我想把', '字串斷句', '']"
      ]
     },
     "execution_count": 75,
     "metadata": {},
     "output_type": "execute_result"
    }
   ],
   "source": [
    "str1 = '我想把.字串斷句.'\n",
    "str1.split('.')"
   ]
  },
  {
   "cell_type": "code",
   "execution_count": 76,
   "metadata": {},
   "outputs": [
    {
     "data": {
      "text/plain": [
       "['我想把', '字串斷句', '']"
      ]
     },
     "execution_count": 76,
     "metadata": {},
     "output_type": "execute_result"
    }
   ],
   "source": [
    "str1 = '我想把\\n字串斷句\\n'\n",
    "str1.split('\\n')"
   ]
  },
  {
   "cell_type": "code",
   "execution_count": 77,
   "metadata": {},
   "outputs": [
    {
     "data": {
      "text/plain": [
       "['我想把', '字串斷句']"
      ]
     },
     "execution_count": 77,
     "metadata": {},
     "output_type": "execute_result"
    }
   ],
   "source": [
    "str1 = '我想把 字串斷句 '\n",
    "str1.split()"
   ]
  },
  {
   "cell_type": "markdown",
   "metadata": {
    "slideshow": {
     "slide_type": "subslide"
    }
   },
   "source": [
    "#### 字串常用方法\n",
    "我想把英文變小寫 => `str.lower()`"
   ]
  },
  {
   "cell_type": "code",
   "execution_count": 78,
   "metadata": {},
   "outputs": [
    {
     "data": {
      "text/plain": [
       "'lower case'"
      ]
     },
     "execution_count": 78,
     "metadata": {},
     "output_type": "execute_result"
    }
   ],
   "source": [
    "str1 = 'LOWER CASE'\n",
    "str1 = str1.lower()\n",
    "str1"
   ]
  },
  {
   "cell_type": "markdown",
   "metadata": {
    "slideshow": {
     "slide_type": "subslide"
    }
   },
   "source": [
    "#### 字串常用方法\n",
    "我想知道字串中有沒有你的名字 => `str1 in str`\n",
    "\n",
    " - `in` and `not in`"
   ]
  },
  {
   "cell_type": "code",
   "execution_count": 79,
   "metadata": {},
   "outputs": [],
   "source": [
    "str1 = '你的名字'\n",
    "str2 = '名字'"
   ]
  },
  {
   "cell_type": "code",
   "execution_count": 80,
   "metadata": {},
   "outputs": [
    {
     "data": {
      "text/plain": [
       "True"
      ]
     },
     "execution_count": 80,
     "metadata": {},
     "output_type": "execute_result"
    }
   ],
   "source": [
    "str2 in str1"
   ]
  },
  {
   "cell_type": "code",
   "execution_count": 81,
   "metadata": {},
   "outputs": [
    {
     "data": {
      "text/plain": [
       "False"
      ]
     },
     "execution_count": 81,
     "metadata": {},
     "output_type": "execute_result"
    }
   ],
   "source": [
    "str2 not in str1"
   ]
  },
  {
   "cell_type": "markdown",
   "metadata": {
    "slideshow": {
     "slide_type": "subslide"
    }
   },
   "source": [
    "#### 字串常用方法\n",
    "如何把數字轉字串 => `str(number)`\n",
    "\n",
    " - 字串和整數可否相加? print(str + number)"
   ]
  },
  {
   "cell_type": "code",
   "execution_count": 82,
   "metadata": {},
   "outputs": [
    {
     "ename": "TypeError",
     "evalue": "can only concatenate str (not \"int\") to str",
     "output_type": "error",
     "traceback": [
      "\u001b[0;31m---------------------------------------------------------------------------\u001b[0m",
      "\u001b[0;31mTypeError\u001b[0m                                 Traceback (most recent call last)",
      "\u001b[0;32m<ipython-input-82-136d4782df80>\u001b[0m in \u001b[0;36m<module>\u001b[0;34m\u001b[0m\n\u001b[1;32m      1\u001b[0m \u001b[0mstr1\u001b[0m \u001b[0;34m=\u001b[0m \u001b[0;34m'1'\u001b[0m\u001b[0;34m\u001b[0m\u001b[0;34m\u001b[0m\u001b[0m\n\u001b[1;32m      2\u001b[0m \u001b[0mnumber\u001b[0m \u001b[0;34m=\u001b[0m \u001b[0;36m1\u001b[0m\u001b[0;34m\u001b[0m\u001b[0;34m\u001b[0m\u001b[0m\n\u001b[0;32m----> 3\u001b[0;31m \u001b[0mprint\u001b[0m\u001b[0;34m(\u001b[0m\u001b[0mstr1\u001b[0m \u001b[0;34m+\u001b[0m \u001b[0mnumber\u001b[0m\u001b[0;34m)\u001b[0m\u001b[0;34m\u001b[0m\u001b[0;34m\u001b[0m\u001b[0m\n\u001b[0m",
      "\u001b[0;31mTypeError\u001b[0m: can only concatenate str (not \"int\") to str"
     ]
    }
   ],
   "source": [
    "str1 = '1'\n",
    "number = 1\n",
    "print(str1 + number)"
   ]
  },
  {
   "cell_type": "code",
   "execution_count": 83,
   "metadata": {},
   "outputs": [
    {
     "name": "stdout",
     "output_type": "stream",
     "text": [
      "11\n"
     ]
    }
   ],
   "source": [
    "str1 = '1'\n",
    "number = 1\n",
    "print(str1+str(number))"
   ]
  },
  {
   "cell_type": "markdown",
   "metadata": {
    "slideshow": {
     "slide_type": "subslide"
    }
   },
   "source": [
    "### 參考資料\n",
    " - https://www.w3schools.com/python/python_strings.asp\n",
    " - https://www.runoob.com/python/python-strings.html"
   ]
  },
  {
   "cell_type": "markdown",
   "metadata": {},
   "source": [
    "#### >>> 回家練習 <<< \n",
    "請用這個句子完成以下練習：<br>\n",
    "```時至今日我也不明白那兩個義大利女人在唱些什麼。其實我也不想知道。有些事情還是不說的好。我情願相信她們唱的是語言無法表達的美好東西，讓你為之心碎。我得告訴你這些聲音衝上了雲霄，超越了這個灰色地帶中任何人的想像。就好像某隻美麗的鳥兒扇動著翅膀飛進了這個乏味的小籠子，讓那些高牆隨之瓦解，有那麼極短的一刻，肖申克中所有人似乎重獲自由。原文：I have no idea to this day what those two Italian ladies were singing about. Truth is, I don't wanna know. Some things are best left unsaid. I'd like to think they were singing about something so beautiful it can't be expressed in words, and it makes your heart ache because of it. I tell you those voices soared, higher and farther than anybody in a grey place dares to dream. It was like some beautiful bird flapped into our drab little cage and made these walls dissolve away, and for the briefest of moments, every last man in Shawshank felt free.```\n"
   ]
  },
  {
   "cell_type": "markdown",
   "metadata": {},
   "source": [
    "本句共有多少個中文字元（含中文標點符號）？"
   ]
  },
  {
   "cell_type": "code",
   "execution_count": 11,
   "metadata": {},
   "outputs": [
    {
     "data": {
      "text/plain": [
       "164"
      ]
     },
     "execution_count": 11,
     "metadata": {},
     "output_type": "execute_result"
    }
   ],
   "source": [
    "#your code\n",
    "str6 = \"時至今日我也不明白那兩個義大利女人在唱些什麼。其實我也不想知道。有些事情還是不說的好。我情願相信她們唱的是語言無法表達的美好東西，讓你為之心碎。我得告訴你這些聲音衝上了雲霄，超越了這個灰色地帶中任何人的想像。就好像某隻美麗的鳥兒扇動著翅膀飛進了這個乏味的小籠子，讓那些高牆隨之瓦解，有那麼極短的一刻，肖申克中所有人似乎重獲自由。\"\n",
    "len(str6)"
   ]
  },
  {
   "cell_type": "markdown",
   "metadata": {},
   "source": [
    "#### >>> 回家練習 <<< \n",
    "本句共有多少個英文字（含英文標點符號）？ \n",
    "例如：It 是一個英文字，Shawshank 是一個英文字。不是算有多少字元 (characters) 喔。"
   ]
  },
  {
   "cell_type": "code",
   "execution_count": 16,
   "metadata": {},
   "outputs": [
    {
     "data": {
      "text/plain": [
       "113"
      ]
     },
     "execution_count": 16,
     "metadata": {},
     "output_type": "execute_result"
    }
   ],
   "source": [
    "#your code\n",
    "str7 = \"I have no idea to this day what those two Italian ladies were singing about. Truth is, I don't wanna know. Some things are best left unsaid. I'd like to think they were singing about something so beautiful it can't be expressed in words, and it makes your heart ache because of it. I tell you those voices soared, higher and farther than anybody in a grey place dares to dream. It was like some beautiful bird flapped into our drab little cage and made these walls dissolve away, and for the briefest of moments, every last man in Shawshank felt free.\"\n",
    "str7 = str7.replace('.',' .')\n",
    "str7 = str7.replace(',',' ,')\n",
    "str7 = str7.split()\n",
    "len(str7)\n",
    "\n",
    "\n",
    "#另解：\n",
    "#直接split()"
   ]
  },
  {
   "cell_type": "markdown",
   "metadata": {},
   "source": [
    "#### >>> 回家練習 <<< \n",
    "\"時\"是第一個字。<br>\n",
    "以一行程式印出句子的第47, 48, 102, 103, 110, 111, 162, 163個字，印成一行。"
   ]
  },
  {
   "cell_type": "code",
   "execution_count": 8,
   "metadata": {},
   "outputs": [
    {
     "name": "stdout",
     "output_type": "stream",
     "text": [
      "她們。就的鳥。\n"
     ]
    }
   ],
   "source": [
    "#your code\n",
    "str7 = '時至今日我也不明白那兩個義大利女人在唱些什麼。其實我也不想知道。有些事情還是不說的好。我情願相信她們唱的是語言無法表達的美好東西，讓你為之心碎。我得告訴你這些聲音衝上了雲霄，超越了這個灰色地帶中任何人的想像。就好像某隻美麗的鳥兒扇動著翅膀飛進了這個乏味的小籠子，讓那些高牆隨之瓦解，有那麼極短的一刻，肖申克中所有人似乎重獲自由。'\n",
    "print (str(str7[48:50])+str(str7[103:105])+str(str7[111:113])+str(str7[163:165]))"
   ]
  },
  {
   "cell_type": "markdown",
   "metadata": {},
   "source": [
    "提示：str6[46]\n",
    "＊注意：jupyter打過一次就不用再貼一次了喔/故用str6就可以（str7留給英文版）"
   ]
  },
  {
   "cell_type": "code",
   "execution_count": 12,
   "metadata": {},
   "outputs": [
    {
     "name": "stdout",
     "output_type": "stream",
     "text": [
      "相信想像麗自由\n"
     ]
    }
   ],
   "source": [
    "#訂正\n",
    "print(str6[47-1]+\n",
    "      str6[48-1]+\n",
    "      str6[102-1]+\n",
    "      str6[103-1]+\n",
    "      str6[111-1]+\n",
    "      str6[162-1]+\n",
    "      str6[163-1]\n",
    "     )"
   ]
  },
  {
   "cell_type": "markdown",
   "metadata": {},
   "source": [
    "#### >>> 回家練習 <<< \n",
    "將英文字元全轉為小寫，印出。"
   ]
  },
  {
   "cell_type": "code",
   "execution_count": null,
   "metadata": {},
   "outputs": [],
   "source": [
    "#your code\n",
    "str7 = \"I have no idea to this day what those two Italian ladies were singing about. Truth is, I don't wanna know. Some things are best left unsaid. I'd like to think they were singing about something so beautiful it can't be expressed in words, and it makes your heart ache because of it. I tell you those voices soared, higher and farther than anybody in a grey place dares to dream. It was like some beautiful bird flapped into our drab little cage and made these walls dissolve away, and for the briefest of moments, every last man in Shawshank felt free.\"\n",
    "str7.lower()"
   ]
  },
  {
   "cell_type": "markdown",
   "metadata": {},
   "source": [
    "＊本題有打‘印出’兩字記得要有真正的'輸出'形式。"
   ]
  },
  {
   "cell_type": "code",
   "execution_count": 18,
   "metadata": {},
   "outputs": [
    {
     "name": "stdout",
     "output_type": "stream",
     "text": [
      "i have no idea to this day what those two italian ladies were singing about. truth is, i don't wanna know. some things are best left unsaid. i'd like to think they were singing about something so beautiful it can't be expressed in words, and it makes your heart ache because of it. i tell you those voices soared, higher and farther than anybody in a grey place dares to dream. it was like some beautiful bird flapped into our drab little cage and made these walls dissolve away, and for the briefest of moments, every last man in shawshank felt free.\n"
     ]
    }
   ],
   "source": [
    "#訂正\n",
    "str7 = \"I have no idea to this day what those two Italian ladies were singing about. Truth is, I don't wanna know. Some things are best left unsaid. I'd like to think they were singing about something so beautiful it can't be expressed in words, and it makes your heart ache because of it. I tell you those voices soared, higher and farther than anybody in a grey place dares to dream. It was like some beautiful bird flapped into our drab little cage and made these walls dissolve away, and for the briefest of moments, every last man in Shawshank felt free.\"\n",
    "print(str7.lower())"
   ]
  },
  {
   "cell_type": "markdown",
   "metadata": {},
   "source": [
    "#### >>> 回家練習 <<< \n",
    "將句子以 \"。\" 做斷句。"
   ]
  },
  {
   "cell_type": "code",
   "execution_count": 23,
   "metadata": {},
   "outputs": [
    {
     "name": "stdout",
     "output_type": "stream",
     "text": [
      "時至今日我也不明白那兩個義大利女人在唱些什麼\n",
      "其實我也不想知道\n",
      "有些事情還是不說的好\n",
      "我情願相信她們唱的是語言無法表達的美好東西，讓你為之心碎\n",
      "我得告訴你這些聲音衝上了雲霄，超越了這個灰色地帶中任何人的想像\n",
      "就好像某隻美麗的鳥兒扇動著翅膀飛進了這個乏味的小籠子，讓那些高牆隨之瓦解，有那麼極短的一刻，肖申克中所有人似乎重獲自由\n",
      "\n"
     ]
    }
   ],
   "source": [
    "#your code\n",
    "str6 = '時至今日我也不明白那兩個義大利女人在唱些什麼。其實我也不想知道。有些事情還是不說的好。我情願相信她們唱的是語言無法表達的美好東西，讓你為之心碎。我得告訴你這些聲音衝上了雲霄，超越了這個灰色地帶中任何人的想像。就好像某隻美麗的鳥兒扇動著翅膀飛進了這個乏味的小籠子，讓那些高牆隨之瓦解，有那麼極短的一刻，肖申克中所有人似乎重獲自由。'\n",
    "str6.split('。')"
   ]
  },
  {
   "cell_type": "markdown",
   "metadata": {
    "slideshow": {
     "slide_type": "slide"
    }
   },
   "source": [
    "## 第四個要學會的是......成為控制哥/姐\n",
    ">if...elif...else (condition)<br>\n",
    ">for...in... (for loop)<br>\n",
    ">while... (while loop)"
   ]
  },
  {
   "cell_type": "markdown",
   "metadata": {
    "slideshow": {
     "slide_type": "subslide"
    }
   },
   "source": [
    "### if...elif...else\n",
    "符合條件要做什麼事\n",
    ">if condition1:<br>\n",
    ">&ensp;&ensp;statement1<br>\n",
    ">elif condition2:<br>\n",
    ">&ensp;&ensp;statement2<br>\n",
    ">else:<br>\n",
    ">&ensp;&ensp;statement3\n",
    "    \n",
    " - 注意條件後面要有 `:`，而且換行後要有 `tab`\n",
    " - `elif` 和 `else` 為 optional，通常 `else` 有助於 debug"
   ]
  },
  {
   "cell_type": "markdown",
   "metadata": {
    "slideshow": {
     "slide_type": "subslide"
    }
   },
   "source": [
    "最喜歡的漫畫?"
   ]
  },
  {
   "cell_type": "code",
   "execution_count": 103,
   "metadata": {},
   "outputs": [
    {
     "name": "stdout",
     "output_type": "stream",
     "text": [
      "我不是宅宅\n"
     ]
    }
   ],
   "source": [
    "comic = '000'\n",
    "if comic == '七龍珠':\n",
    "    print('上古宅宅')\n",
    "elif comic == '海賊王':\n",
    "    print('中生代宅宅')\n",
    "else:\n",
    "    print('我不是宅宅')"
   ]
  },
  {
   "cell_type": "markdown",
   "metadata": {},
   "source": [
    "\n",
    "####  以下是個error, if else 可以排解可能錯誤請再下一個cell練習\n",
    ">X = 1<br>\n",
    ">Y = 0<br>\n",
    ">print(X/Y)<br>\n",
    " "
   ]
  },
  {
   "cell_type": "code",
   "execution_count": null,
   "metadata": {},
   "outputs": [],
   "source": [
    "#your code\n",
    "# 於此寫出修正後的程式，並執行輸出。\n",
    "X = 1\n",
    "Y = 1\n",
    "print(X/Y) if Y!=0 else print(\"error\")   "
   ]
  },
  {
   "cell_type": "markdown",
   "metadata": {},
   "source": [
    "百貨公司週年慶活動血拼大打折，吸引很多顧客上門，公司決定再加碼回饋客戶，\n",
    "只要客戶消費金額在 100,000 元以上就打八折，\n",
    ">金額在 50,000 元以上就打八三折，\n",
    ">金額在 30,000 元以上就打八五折，\n",
    ">金額在 10,000 元以上就打九折，\n",
    "\n",
    ">>請幫該公司設計這個收銀台的程式，\n",
    ">>輸入顧客購買金額後，計算顧客應付的金錢。"
   ]
  },
  {
   "cell_type": "code",
   "execution_count": 26,
   "metadata": {},
   "outputs": [
    {
     "name": "stdin",
     "output_type": "stream",
     "text": [
      "顧客購買金額： 37278\n"
     ]
    },
    {
     "name": "stdout",
     "output_type": "stream",
     "text": [
      "31686.3\n"
     ]
    }
   ],
   "source": [
    "#your code\n",
    "shop = int(input('顧客購買金額：'))\n",
    "if shop >= 100000:\n",
    "    print(shop*0.8)\n",
    "elif shop >= 50000:\n",
    "    print(shop*0.83)\n",
    "elif shop >= 30000:\n",
    "    print(shop*0.85)\n",
    "elif shop >= 10000:\n",
    "    print(shop*0.9)\n",
    "else:\n",
    "    print(shop)"
   ]
  },
  {
   "cell_type": "markdown",
   "metadata": {
    "slideshow": {
     "slide_type": "subslide"
    }
   },
   "source": [
    "### for...in...\n",
    "依序取出物品\n",
    ">for item in list:<br>\n",
    ">&ensp;&ensp;statement\n",
    "\n",
    " - 巢狀迴圈通常不建議超過 3 層"
   ]
  },
  {
   "cell_type": "code",
   "execution_count": 2,
   "metadata": {
    "slideshow": {
     "slide_type": "subslide"
    }
   },
   "outputs": [
    {
     "name": "stdout",
     "output_type": "stream",
     "text": [
      "記住，Red。\n",
      "（´Д`）（´Д`）\n",
      "希望是美好的，也許是人間至善，而美好的事物永不消逝。\n",
      "（´Д`）（´Д`）\n",
      "我希望這封信能找到你，而且找到你的時候，你一切安好。\n",
      "（´Д`）（´Д`）\n",
      "你的朋友，Andy。\n",
      "（´Д`）（´Д`）\n"
     ]
    }
   ],
   "source": [
    "doc = ['記住，Red。',\n",
    "       '希望是美好的，也許是人間至善，而美好的事物永不消逝。',\n",
    "       '我希望這封信能找到你，而且找到你的時候，你一切安好。',\n",
    "       '你的朋友，Andy。']\n",
    "face_text = \"（´Д`）\"\n",
    "\n",
    "for sentence in doc:\n",
    "    print(sentence)\n",
    "    print(face_text *2)"
   ]
  },
  {
   "cell_type": "code",
   "execution_count": 3,
   "metadata": {},
   "outputs": [
    {
     "name": "stdout",
     "output_type": "stream",
     "text": [
      "記住\n",
      "希望\n",
      "我希\n",
      "你的\n",
      "[1, 2]\n"
     ]
    }
   ],
   "source": [
    "for sentence in doc:\n",
    "    print(sentence[0:2])"
   ]
  },
  {
   "cell_type": "markdown",
   "metadata": {
    "slideshow": {
     "slide_type": "subslide"
    }
   },
   "source": [
    "### for...in...\n",
    "固定次數內不斷做一些事\n",
    ">for index in range(start, end):<br>\n",
    ">&ensp;&ensp;statement<br>\n",
    " - range()"
   ]
  },
  {
   "cell_type": "code",
   "execution_count": 106,
   "metadata": {},
   "outputs": [
    {
     "name": "stdout",
     "output_type": "stream",
     "text": [
      "記住，\n",
      "希望是\n",
      "我希望\n",
      "你的朋\n"
     ]
    }
   ],
   "source": [
    "doc = ['記住，Red。',\n",
    "       '希望是美好的，也許是人間至善，而美好的事物永不消逝。',\n",
    "       '我希望這封信能找到你，而且找到你的時候，你一切安好。',\n",
    "       '你的朋友，Andy。']\n",
    "\n",
    "for index in range(len(doc)):\n",
    "    print(doc[index][0:3])"
   ]
  },
  {
   "cell_type": "markdown",
   "metadata": {
    "slideshow": {
     "slide_type": "subslide"
    }
   },
   "source": [
    "印出 2, 4, 6, 8, 10"
   ]
  },
  {
   "cell_type": "code",
   "execution_count": 107,
   "metadata": {},
   "outputs": [
    {
     "name": "stdout",
     "output_type": "stream",
     "text": [
      "0\n",
      "2\n",
      "4\n",
      "6\n",
      "8\n",
      "10\n"
     ]
    }
   ],
   "source": [
    "for index in range(11):\n",
    "    if index % 2 == 0:\n",
    "        print(index)"
   ]
  },
  {
   "cell_type": "code",
   "execution_count": 108,
   "metadata": {},
   "outputs": [
    {
     "name": "stdout",
     "output_type": "stream",
     "text": [
      "2\n",
      "4\n",
      "6\n",
      "8\n",
      "10\n"
     ]
    }
   ],
   "source": [
    "for index in range(11):\n",
    "    if index % 2 == 0 and index > 0:\n",
    "        print(index)"
   ]
  },
  {
   "cell_type": "code",
   "execution_count": 109,
   "metadata": {},
   "outputs": [
    {
     "name": "stdout",
     "output_type": "stream",
     "text": [
      "2\n",
      "4\n",
      "6\n",
      "8\n",
      "10\n"
     ]
    }
   ],
   "source": [
    "for index in range(2,11):\n",
    "    if index % 2 == 0:\n",
    "        print(index)"
   ]
  },
  {
   "cell_type": "code",
   "execution_count": 110,
   "metadata": {},
   "outputs": [
    {
     "name": "stdout",
     "output_type": "stream",
     "text": [
      "2\n",
      "4\n",
      "6\n",
      "8\n",
      "10\n"
     ]
    }
   ],
   "source": [
    "for index in range(2,11,2):\n",
    "    print(index)"
   ]
  },
  {
   "cell_type": "markdown",
   "metadata": {},
   "source": [
    "小龍參考叮叮利用 range 函式設計的數列程式，改進為可以計算數列的總和，\n",
    "只要輸入一個正整數，程式就會計算由 1 到該整數的總和。"
   ]
  },
  {
   "cell_type": "code",
   "execution_count": null,
   "metadata": {},
   "outputs": [],
   "source": [
    "# user input\n",
    "num_in = int(input())\n",
    "a = 0\n",
    "\n",
    "for i in range(num_in+1):\n",
    "    a += i\n",
    "\n",
    "print(a)"
   ]
  },
  {
   "cell_type": "markdown",
   "metadata": {
    "slideshow": {
     "slide_type": "subslide"
    }
   },
   "source": [
    "### while...\n",
    "未知次數不斷做一些事\n",
    ">while condition:<br>\n",
    ">&ensp;&ensp;statement<br>\n",
    "\n",
    " - 小心變成無窮迴圈\n",
    " - 巢狀迴圈通常不建議超過 3 層"
   ]
  },
  {
   "cell_type": "markdown",
   "metadata": {
    "slideshow": {
     "slide_type": "subslide"
    }
   },
   "source": [
    "印出 2, 4, 6, 8, 10"
   ]
  },
  {
   "cell_type": "code",
   "execution_count": 111,
   "metadata": {},
   "outputs": [
    {
     "name": "stdout",
     "output_type": "stream",
     "text": [
      "2\n",
      "4\n",
      "6\n",
      "8\n",
      "10\n"
     ]
    }
   ],
   "source": [
    "index = 2\n",
    "while index <= 10:\n",
    "    if index % 2 == 0:\n",
    "        print(index)\n",
    "    index += 2"
   ]
  },
  {
   "cell_type": "markdown",
   "metadata": {
    "slideshow": {
     "slide_type": "subslide"
    }
   },
   "source": [
    "### break\n",
    "\n",
    "休息一下吧! => 跳過當下迴圈"
   ]
  },
  {
   "cell_type": "code",
   "execution_count": 112,
   "metadata": {},
   "outputs": [
    {
     "name": "stdout",
     "output_type": "stream",
     "text": [
      "記\n",
      "希\n"
     ]
    }
   ],
   "source": [
    "doc = ['記住，Red。',\n",
    "       '希望是美好的，也許是人間至善，而美好的事物永不消逝。',\n",
    "       '我希望這封信能找到你，而且找到你的時候，你一切安好。',\n",
    "       '你的朋友，Andy。']\n",
    "\n",
    "\n",
    "for index in range(len(doc)):\n",
    "    if index == 2:\n",
    "        break\n",
    "    print(doc[index][0])"
   ]
  },
  {
   "cell_type": "markdown",
   "metadata": {
    "slideshow": {
     "slide_type": "subslide"
    }
   },
   "source": [
    "### continue\n",
    "我們繼續吧! => 跳過當下的 item"
   ]
  },
  {
   "cell_type": "code",
   "execution_count": 113,
   "metadata": {},
   "outputs": [
    {
     "name": "stdout",
     "output_type": "stream",
     "text": [
      "記\n",
      "我\n",
      "你\n"
     ]
    }
   ],
   "source": [
    "doc = ['記住，Red。',\n",
    "       '希望是美好的，也許是人間至善，而美好的事物永不消逝。',\n",
    "       '我希望這封信能找到你，而且找到你的時候，你一切安好。',\n",
    "       '你的朋友，Andy。']\n",
    "\n",
    "for index in range(len(doc)):\n",
    "    if index == 1:\n",
    "        continue\n",
    "        #跳過\n",
    "    print(doc[index][0])"
   ]
  },
  {
   "cell_type": "markdown",
   "metadata": {},
   "source": [
    "#### >>> 回家練習 <<< \n",
    "請用這個句子完成以下練習：<br>\n",
    "```時至今日我也不明白那兩個義大利女人在唱些什麼。其實我也不想知道。有些事情還是不說的好。我情願相信她們唱的是語言無法表達的美好東西，讓你為之心碎。我得告訴你這些聲音衝上了雲霄，超越了這個灰色地帶中任何人的想像。就好像某隻美麗的鳥兒扇動著翅膀飛進了這個乏味的小籠子，讓那些高牆隨之瓦解，有那麼極短的一刻，肖申克中所有人似乎重獲自由。原文：I have no idea to this day what those two Italian ladies were singing about. Truth is, I don't wanna know. Some things are best left unsaid. I'd like to think they were singing about something so beautiful it can't be expressed in words, and it makes your heart ache because of it. I tell you those voices soared, higher and farther than anybody in a grey place dares to dream. It was like some beautiful bird flapped into our drab little cage and made these walls dissolve away, and for the briefest of moments, every last man in Shawshank felt free.```\n",
    "\n",
    "以 \"。\" 斷句，取出每個子句的第3個字元組成一個文字，印出。"
   ]
  },
  {
   "cell_type": "code",
   "execution_count": 114,
   "metadata": {},
   "outputs": [
    {
     "name": "stdout",
     "output_type": "stream",
     "text": [
      "時至今\n",
      "日我也\n",
      "不明白\n",
      "那兩個\n",
      "義大利\n",
      "女人在\n",
      "唱些什\n",
      "麼\n",
      "其實我\n",
      "也不想\n",
      "知道\n",
      "有些事\n",
      "情還是\n",
      "不說的\n",
      "好\n",
      "我情願\n",
      "相信她\n",
      "們唱的\n",
      "是語言\n",
      "無法表\n",
      "達的美\n",
      "好東西\n",
      "，讓你\n",
      "為之心\n",
      "碎\n",
      "我得告\n",
      "訴你這\n",
      "些聲音\n",
      "衝上了\n",
      "雲霄，\n",
      "超越了\n",
      "這個灰\n",
      "色地帶\n",
      "中任何\n",
      "人的想\n",
      "像\n",
      "就好像\n",
      "某隻美\n",
      "麗的鳥\n",
      "兒扇動\n",
      "著翅膀\n",
      "飛進了\n",
      "這個乏\n",
      "味的小\n",
      "籠子，\n",
      "讓那些\n",
      "高牆隨\n",
      "之瓦解\n",
      "，有那\n",
      "麼極短\n",
      "的一刻\n",
      "，肖申\n",
      "克中所\n",
      "有人似\n",
      "乎重獲\n",
      "自由\n"
     ]
    }
   ],
   "source": [
    "#your code\n",
    "str11 ='時至今日我也不明白那兩個義大利女人在唱些什麼。其實我也不想知道。有些事情還是不說的好。我情願相信她們唱的是語言無法表達的美好東西，讓你為之心碎。我得告訴你這些聲音衝上了雲霄，超越了這個灰色地帶中任何人的想像。就好像某隻美麗的鳥兒扇動著翅膀飛進了這個乏味的小籠子，讓那些高牆隨之瓦解，有那麼極短的一刻，肖申克中所有人似乎重獲自由。'\n",
    "str11 = str11.split('。')\n",
    "\n",
    "for sentence in str11:\n",
    "    x = 0\n",
    "    y = 3\n",
    "    for index in range(len(sentence)):\n",
    "        if index%3 == 0:\n",
    "            print(sentence[x:y])\n",
    "            x += 3\n",
    "            y += 3"
   ]
  },
  {
   "cell_type": "code",
   "execution_count": 1,
   "metadata": {
    "tags": []
   },
   "outputs": [
    {
     "name": "stdout",
     "output_type": "stream",
     "text": [
      "今\n",
      "我\n",
      "事\n",
      "願\n",
      "告\n",
      "像\n"
     ]
    },
    {
     "ename": "IndexError",
     "evalue": "string index out of range",
     "output_type": "error",
     "traceback": [
      "\u001b[1;31m---------------------------------------------------------------------------\u001b[0m",
      "\u001b[1;31mIndexError\u001b[0m                                Traceback (most recent call last)",
      "\u001b[1;32m<ipython-input-1-b1ee944cabb8>\u001b[0m in \u001b[0;36m<module>\u001b[1;34m\u001b[0m\n\u001b[0;32m      4\u001b[0m \u001b[1;33m\u001b[0m\u001b[0m\n\u001b[0;32m      5\u001b[0m \u001b[1;32mfor\u001b[0m \u001b[0msentence\u001b[0m \u001b[1;32min\u001b[0m \u001b[0mstr11\u001b[0m\u001b[1;33m:\u001b[0m\u001b[1;33m\u001b[0m\u001b[1;33m\u001b[0m\u001b[0m\n\u001b[1;32m----> 6\u001b[1;33m     \u001b[0mprint\u001b[0m\u001b[1;33m(\u001b[0m\u001b[0msentence\u001b[0m\u001b[1;33m[\u001b[0m\u001b[1;36m3\u001b[0m\u001b[1;33m-\u001b[0m\u001b[1;36m1\u001b[0m\u001b[1;33m]\u001b[0m\u001b[1;33m)\u001b[0m\u001b[1;33m\u001b[0m\u001b[1;33m\u001b[0m\u001b[0m\n\u001b[0m",
      "\u001b[1;31mIndexError\u001b[0m: string index out of range"
     ]
    }
   ],
   "source": [
    "#訂正\n",
    "str11 ='時至今日我也不明白那兩個義大利女人在唱些什麼。其實我也不想知道。有些事情還是不說的好。我情願相信她們唱的是語言無法表達的美好東西，讓你為之心碎。我得告訴你這些聲音衝上了雲霄，超越了這個灰色地帶中任何人的想像。就好像某隻美麗的鳥兒扇動著翅膀飛進了這個乏味的小籠子，讓那些高牆隨之瓦解，有那麼極短的一刻，肖申克中所有人似乎重獲自由。'\n",
    "str11 = str11.split('。')\n",
    "\n",
    "for sentence in str11:\n",
    "    print(sentence[3-1])"
   ]
  },
  {
   "cell_type": "markdown",
   "metadata": {},
   "source": [
    "利用兩層 for 迴圈列印九九乘法表。\n",
    "另外，再多設計一個程式只用 while 迴圈列印九九乘法表。"
   ]
  },
  {
   "cell_type": "code",
   "execution_count": 9,
   "metadata": {},
   "outputs": [
    {
     "name": "stdout",
     "output_type": "stream",
     "text": [
      "1×1=1\n",
      "1×2=2\n",
      "1×3=3\n",
      "1×4=4\n",
      "1×5=5\n",
      "1×6=6\n",
      "1×7=7\n",
      "1×8=8\n",
      "1×9=9\n",
      "\n",
      "2×1=2\n",
      "2×2=4\n",
      "2×3=6\n",
      "2×4=8\n",
      "2×5=10\n",
      "2×6=12\n",
      "2×7=14\n",
      "2×8=16\n",
      "2×9=18\n",
      "\n",
      "3×1=3\n",
      "3×2=6\n",
      "3×3=9\n",
      "3×4=12\n",
      "3×5=15\n",
      "3×6=18\n",
      "3×7=21\n",
      "3×8=24\n",
      "3×9=27\n",
      "\n",
      "4×1=4\n",
      "4×2=8\n",
      "4×3=12\n",
      "4×4=16\n",
      "4×5=20\n",
      "4×6=24\n",
      "4×7=28\n",
      "4×8=32\n",
      "4×9=36\n",
      "\n",
      "5×1=5\n",
      "5×2=10\n",
      "5×3=15\n",
      "5×4=20\n",
      "5×5=25\n",
      "5×6=30\n",
      "5×7=35\n",
      "5×8=40\n",
      "5×9=45\n",
      "\n",
      "6×1=6\n",
      "6×2=12\n",
      "6×3=18\n",
      "6×4=24\n",
      "6×5=30\n",
      "6×6=36\n",
      "6×7=42\n",
      "6×8=48\n",
      "6×9=54\n",
      "\n",
      "7×1=7\n",
      "7×2=14\n",
      "7×3=21\n",
      "7×4=28\n",
      "7×5=35\n",
      "7×6=42\n",
      "7×7=49\n",
      "7×8=56\n",
      "7×9=63\n",
      "\n",
      "8×1=8\n",
      "8×2=16\n",
      "8×3=24\n",
      "8×4=32\n",
      "8×5=40\n",
      "8×6=48\n",
      "8×7=56\n",
      "8×8=64\n",
      "8×9=72\n",
      "\n",
      "9×1=9\n",
      "9×2=18\n",
      "9×3=27\n",
      "9×4=36\n",
      "9×5=45\n",
      "9×6=54\n",
      "9×7=63\n",
      "9×8=72\n",
      "9×9=81\n",
      "\n",
      "1×1=1\n",
      "1×2=2\n",
      "1×3=3\n",
      "1×4=4\n",
      "1×5=5\n",
      "1×6=6\n",
      "1×7=7\n",
      "1×8=8\n",
      "1×9=9\n",
      "\n",
      "2×1=2\n",
      "2×2=4\n",
      "2×3=6\n",
      "2×4=8\n",
      "2×5=10\n",
      "2×6=12\n",
      "2×7=14\n",
      "2×8=16\n",
      "2×9=18\n",
      "\n",
      "3×1=3\n",
      "3×2=6\n",
      "3×3=9\n",
      "3×4=12\n",
      "3×5=15\n",
      "3×6=18\n",
      "3×7=21\n",
      "3×8=24\n",
      "3×9=27\n",
      "\n",
      "4×1=4\n",
      "4×2=8\n",
      "4×3=12\n",
      "4×4=16\n",
      "4×5=20\n",
      "4×6=24\n",
      "4×7=28\n",
      "4×8=32\n",
      "4×9=36\n",
      "\n",
      "5×1=5\n",
      "5×2=10\n",
      "5×3=15\n",
      "5×4=20\n",
      "5×5=25\n",
      "5×6=30\n",
      "5×7=35\n",
      "5×8=40\n",
      "5×9=45\n",
      "\n",
      "6×1=6\n",
      "6×2=12\n",
      "6×3=18\n",
      "6×4=24\n",
      "6×5=30\n",
      "6×6=36\n",
      "6×7=42\n",
      "6×8=48\n",
      "6×9=54\n",
      "\n",
      "7×1=7\n",
      "7×2=14\n",
      "7×3=21\n",
      "7×4=28\n",
      "7×5=35\n",
      "7×6=42\n",
      "7×7=49\n",
      "7×8=56\n",
      "7×9=63\n",
      "\n",
      "8×1=8\n",
      "8×2=16\n",
      "8×3=24\n",
      "8×4=32\n",
      "8×5=40\n",
      "8×6=48\n",
      "8×7=56\n",
      "8×8=64\n",
      "8×9=72\n",
      "\n",
      "9×1=9\n",
      "9×2=18\n",
      "9×3=27\n",
      "9×4=36\n",
      "9×5=45\n",
      "9×6=54\n",
      "9×7=63\n",
      "9×8=72\n",
      "9×9=81\n",
      "\n"
     ]
    }
   ],
   "source": [
    "#for迴圈\n",
    "for i in range(1,10):\n",
    "    for j in range(1,10):\n",
    "        print(f'{i}×{j}={i*j}')\n",
    "    print()\n",
    "    \n",
    "#while迴圈\n",
    "i = 1\n",
    "j = 1\n",
    "while i>=1 and i <= 9:\n",
    "    while j>=1 and j <= 9:\n",
    "        print(f'{i}×{j}={i*j}')\n",
    "        j += 1\n",
    "    print()\n",
    "    j = 1\n",
    "    i += 1"
   ]
  },
  {
   "cell_type": "markdown",
   "metadata": {
    "slideshow": {
     "slide_type": "slide"
    }
   },
   "source": [
    "#### >>> 回家練習 <<<\n",
    ">如何計算所有數字的加總"
   ]
  },
  {
   "cell_type": "markdown",
   "metadata": {
    "slideshow": {
     "slide_type": "fragment"
    }
   },
   "source": [
    "思考：想像寫程式就是在創造一個機器人，假如要我想要機器人做動作，我會經過什麼流程?"
   ]
  },
  {
   "cell_type": "markdown",
   "metadata": {
    "slideshow": {
     "slide_type": "subslide"
    }
   },
   "source": [
    "1. 設定變數：多少個變數? 什麼型態的變數?\n",
    "- 設定6個變數，x1, x2, x3, x4, x5, total"
   ]
  },
  {
   "cell_type": "code",
   "execution_count": 1,
   "metadata": {},
   "outputs": [],
   "source": [
    "#your code\n",
    "x1 = 0\n",
    "x2 = 0\n",
    "x3 = 0\n",
    "x4 = 0\n",
    "x5 = 0\n",
    "total = 0"
   ]
  },
  {
   "cell_type": "markdown",
   "metadata": {},
   "source": [
    "設定變數/變數型態（為了好加總比如我都設定是整數）：\n",
    "x1 = int()\n",
    "x2 = int()\n",
    "x3 = int()\n",
    "x4 = int()\n",
    "x5 = int()\n",
    "total = int()"
   ]
  },
  {
   "cell_type": "markdown",
   "metadata": {
    "slideshow": {
     "slide_type": "subslide"
    }
   },
   "source": [
    "2. 讀入資料\n",
    "- 運用 input() 輸入 x1, x2, x3, x4, x5 的資料"
   ]
  },
  {
   "cell_type": "code",
   "execution_count": 12,
   "metadata": {},
   "outputs": [
    {
     "name": "stdin",
     "output_type": "stream",
     "text": [
      "x1: 9\n",
      "x2: 9\n",
      "x3: 9\n",
      "x4: 9\n",
      "x5: 9\n"
     ]
    }
   ],
   "source": [
    "#your code\n",
    "x1 = int(input('x1:'))\n",
    "x2 = int(input('x2:'))\n",
    "x3 = int(input('x3:'))\n",
    "x4 = int(input('x4:'))\n",
    "x5 = int(input('x5:'))\n"
   ]
  },
  {
   "cell_type": "markdown",
   "metadata": {
    "slideshow": {
     "slide_type": "subslide"
    }
   },
   "source": [
    "# 3. 運算\n",
    "- 計算 x1, x2, x3, x4, x5 的總和，並指派給 total 變數"
   ]
  },
  {
   "cell_type": "code",
   "execution_count": 13,
   "metadata": {},
   "outputs": [],
   "source": [
    "#your code\n",
    "total = int(x1)+int(x2)+int(x3)+int(x4)+int(x5)\n"
   ]
  },
  {
   "cell_type": "markdown",
   "metadata": {
    "slideshow": {
     "slide_type": "subslide"
    }
   },
   "source": [
    "4. 輸出結果\n",
    "\n",
    "```加總為：```"
   ]
  },
  {
   "cell_type": "code",
   "execution_count": 14,
   "metadata": {},
   "outputs": [
    {
     "name": "stdout",
     "output_type": "stream",
     "text": [
      "加總為：45\n"
     ]
    }
   ],
   "source": [
    "#your code\n",
    "print(f'加總為：{total}')"
   ]
  },
  {
   "cell_type": "markdown",
   "metadata": {
    "slideshow": {
     "slide_type": "subslide"
    }
   },
   "source": [
    "5. 思考有沒有更好的方式?\n",
    "- 以 for loop 改寫，輸入 5 個變數，輸出總和。"
   ]
  },
  {
   "cell_type": "code",
   "execution_count": 122,
   "metadata": {},
   "outputs": [
    {
     "name": "stdout",
     "output_type": "stream",
     "text": [
      "9\n",
      "8\n",
      "7\n",
      "6\n",
      "5\n",
      "35\n"
     ]
    }
   ],
   "source": [
    "#your code\n",
    "total = 0\n",
    "for index in range(5):\n",
    "    total += int(input()) \n",
    "print(total)"
   ]
  },
  {
   "cell_type": "markdown",
   "metadata": {
    "slideshow": {
     "slide_type": "subslide"
    }
   },
   "source": [
    "## 6. 思考有沒有更好的方式?\n",
    "- 以 while loop 改寫，輸入 5 個變數，輸出總和。"
   ]
  },
  {
   "cell_type": "code",
   "execution_count": 123,
   "metadata": {
    "scrolled": true
   },
   "outputs": [
    {
     "name": "stdout",
     "output_type": "stream",
     "text": [
      "9\n",
      "8\n",
      "7\n",
      "6\n",
      "5\n"
     ]
    },
    {
     "data": {
      "text/plain": [
       "35"
      ]
     },
     "execution_count": 123,
     "metadata": {},
     "output_type": "execute_result"
    }
   ],
   "source": [
    "#your code\n",
    "index = 0\n",
    "total = 0\n",
    "while index < 5:\n",
    "    total += int(input())\n",
    "    index += 1\n",
    "total"
   ]
  },
  {
   "cell_type": "code",
   "execution_count": null,
   "metadata": {},
   "outputs": [],
   "source": []
  }
 ],
 "metadata": {
  "kernelspec": {
   "display_name": "Python 3",
   "language": "python",
   "name": "python3"
  },
  "language_info": {
   "codemirror_mode": {
    "name": "ipython",
    "version": 3
   },
   "file_extension": ".py",
   "mimetype": "text/x-python",
   "name": "python",
   "nbconvert_exporter": "python",
   "pygments_lexer": "ipython3",
   "version": "3.8.8"
  }
 },
 "nbformat": 4,
 "nbformat_minor": 4
}
